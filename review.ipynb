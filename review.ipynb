{
 "cells": [
  {
   "cell_type": "code",
   "execution_count": 3,
   "metadata": {},
   "outputs": [
    {
     "ename": "ImportError",
     "evalue": "cannot import name 'pipeline' from 'transformers' (unknown location)",
     "output_type": "error",
     "traceback": [
      "\u001b[0;31m---------------------------------------------------------------------------\u001b[0m",
      "\u001b[0;31mImportError\u001b[0m                               Traceback (most recent call last)",
      "Cell \u001b[0;32mIn[3], line 1\u001b[0m\n\u001b[0;32m----> 1\u001b[0m \u001b[38;5;28;01mfrom\u001b[39;00m \u001b[38;5;21;01mtransformers\u001b[39;00m \u001b[38;5;28;01mimport\u001b[39;00m pipeline\n\u001b[1;32m      2\u001b[0m \u001b[38;5;28;01mfrom\u001b[39;00m \u001b[38;5;21;01mtransformers\u001b[39;00m \u001b[38;5;28;01mimport\u001b[39;00m AutoTokenizer, AutoModelForSeq2SeqLM\n\u001b[1;32m      3\u001b[0m \u001b[38;5;28;01mimport\u001b[39;00m \u001b[38;5;21;01mtorch\u001b[39;00m\n",
      "\u001b[0;31mImportError\u001b[0m: cannot import name 'pipeline' from 'transformers' (unknown location)"
     ]
    }
   ],
   "source": [
    "from transformers import pipeline\n",
    "from transformers import AutoTokenizer, AutoModelForSeq2SeqLM\n",
    "import torch\n",
    "from datasets import load_dataset \n",
    "from datasets import DatasetInfo\n",
    "import pandas as pd "
   ]
  },
  {
   "cell_type": "code",
   "execution_count": null,
   "metadata": {},
   "outputs": [],
   "source": [
    "#Load dataset\n",
    "train1 = pd.read_parquet(\"data/train-00000-of-00003.parquet\")\n",
    "train2 = pd.read_parquet(\"data/train-00001-of-00003.parquet\")\n",
    "train3 = pd.read_parquet(\"data/train-00002-of-00003.parquet\")"
   ]
  },
  {
   "cell_type": "code",
   "execution_count": null,
   "metadata": {},
   "outputs": [
    {
     "data": {
      "text/html": [
       "<div>\n",
       "<style scoped>\n",
       "    .dataframe tbody tr th:only-of-type {\n",
       "        vertical-align: middle;\n",
       "    }\n",
       "\n",
       "    .dataframe tbody tr th {\n",
       "        vertical-align: top;\n",
       "    }\n",
       "\n",
       "    .dataframe thead th {\n",
       "        text-align: right;\n",
       "    }\n",
       "</style>\n",
       "<table border=\"1\" class=\"dataframe\">\n",
       "  <thead>\n",
       "    <tr style=\"text-align: right;\">\n",
       "      <th></th>\n",
       "      <th>article</th>\n",
       "      <th>highlights</th>\n",
       "      <th>id</th>\n",
       "    </tr>\n",
       "  </thead>\n",
       "  <tbody>\n",
       "    <tr>\n",
       "      <th>0</th>\n",
       "      <td>LONDON, England (Reuters) -- Harry Potter star...</td>\n",
       "      <td>Harry Potter star Daniel Radcliffe gets £20M f...</td>\n",
       "      <td>42c027e4ff9730fbb3de84c1af0d2c506e41c3e4</td>\n",
       "    </tr>\n",
       "    <tr>\n",
       "      <th>1</th>\n",
       "      <td>Editor's note: In our Behind the Scenes series...</td>\n",
       "      <td>Mentally ill inmates in Miami are housed on th...</td>\n",
       "      <td>ee8871b15c50d0db17b0179a6d2beab35065f1e9</td>\n",
       "    </tr>\n",
       "    <tr>\n",
       "      <th>2</th>\n",
       "      <td>MINNEAPOLIS, Minnesota (CNN) -- Drivers who we...</td>\n",
       "      <td>NEW: \"I thought I was going to die,\" driver sa...</td>\n",
       "      <td>06352019a19ae31e527f37f7571c6dd7f0c5da37</td>\n",
       "    </tr>\n",
       "    <tr>\n",
       "      <th>3</th>\n",
       "      <td>WASHINGTON (CNN) -- Doctors removed five small...</td>\n",
       "      <td>Five small polyps found during procedure; \"non...</td>\n",
       "      <td>24521a2abb2e1f5e34e6824e0f9e56904a2b0e88</td>\n",
       "    </tr>\n",
       "    <tr>\n",
       "      <th>4</th>\n",
       "      <td>(CNN)  -- The National Football League has ind...</td>\n",
       "      <td>NEW: NFL chief, Atlanta Falcons owner critical...</td>\n",
       "      <td>7fe70cc8b12fab2d0a258fababf7d9c6b5e1262a</td>\n",
       "    </tr>\n",
       "    <tr>\n",
       "      <th>...</th>\n",
       "      <td>...</td>\n",
       "      <td>...</td>\n",
       "      <td>...</td>\n",
       "    </tr>\n",
       "    <tr>\n",
       "      <th>95699</th>\n",
       "      <td>The nine-year-old daughter of a black, unarmed...</td>\n",
       "      <td>Rumain Brisbon, 34, was killed after Phoenix p...</td>\n",
       "      <td>279a12d3ee37b8109cc192a9e88115a5a631fb06</td>\n",
       "    </tr>\n",
       "    <tr>\n",
       "      <th>95700</th>\n",
       "      <td>Legalising assisted suicide is a slippery slop...</td>\n",
       "      <td>Theo Boer, a European assisted suicide watchdo...</td>\n",
       "      <td>b5bc9d404a9a5d890c9fc26550b67e6d8d83241f</td>\n",
       "    </tr>\n",
       "    <tr>\n",
       "      <th>95701</th>\n",
       "      <td>A group calling itself 'The Women of the 99 Pe...</td>\n",
       "      <td>Ohio congressman criticised for 'condoning the...</td>\n",
       "      <td>500862586f925e406f8b662934e1a71bbee32463</td>\n",
       "    </tr>\n",
       "    <tr>\n",
       "      <th>95702</th>\n",
       "      <td>Most men enjoy a good pint of lager or real al...</td>\n",
       "      <td>The Black Country Ale Tairsters have been to 1...</td>\n",
       "      <td>32a1f9e5c37a938c0c0bca1a1559247b9c4334b2</td>\n",
       "    </tr>\n",
       "    <tr>\n",
       "      <th>95703</th>\n",
       "      <td>A Facebook page seeking to preserve the 'Black...</td>\n",
       "      <td>Facebook page supporting tradition gains one m...</td>\n",
       "      <td>8ec9ff4d633dd4cc26d53f503c33f7464b43c36e</td>\n",
       "    </tr>\n",
       "  </tbody>\n",
       "</table>\n",
       "<p>287113 rows × 3 columns</p>\n",
       "</div>"
      ],
      "text/plain": [
       "                                                 article  \\\n",
       "0      LONDON, England (Reuters) -- Harry Potter star...   \n",
       "1      Editor's note: In our Behind the Scenes series...   \n",
       "2      MINNEAPOLIS, Minnesota (CNN) -- Drivers who we...   \n",
       "3      WASHINGTON (CNN) -- Doctors removed five small...   \n",
       "4      (CNN)  -- The National Football League has ind...   \n",
       "...                                                  ...   \n",
       "95699  The nine-year-old daughter of a black, unarmed...   \n",
       "95700  Legalising assisted suicide is a slippery slop...   \n",
       "95701  A group calling itself 'The Women of the 99 Pe...   \n",
       "95702  Most men enjoy a good pint of lager or real al...   \n",
       "95703  A Facebook page seeking to preserve the 'Black...   \n",
       "\n",
       "                                              highlights  \\\n",
       "0      Harry Potter star Daniel Radcliffe gets £20M f...   \n",
       "1      Mentally ill inmates in Miami are housed on th...   \n",
       "2      NEW: \"I thought I was going to die,\" driver sa...   \n",
       "3      Five small polyps found during procedure; \"non...   \n",
       "4      NEW: NFL chief, Atlanta Falcons owner critical...   \n",
       "...                                                  ...   \n",
       "95699  Rumain Brisbon, 34, was killed after Phoenix p...   \n",
       "95700  Theo Boer, a European assisted suicide watchdo...   \n",
       "95701  Ohio congressman criticised for 'condoning the...   \n",
       "95702  The Black Country Ale Tairsters have been to 1...   \n",
       "95703  Facebook page supporting tradition gains one m...   \n",
       "\n",
       "                                             id  \n",
       "0      42c027e4ff9730fbb3de84c1af0d2c506e41c3e4  \n",
       "1      ee8871b15c50d0db17b0179a6d2beab35065f1e9  \n",
       "2      06352019a19ae31e527f37f7571c6dd7f0c5da37  \n",
       "3      24521a2abb2e1f5e34e6824e0f9e56904a2b0e88  \n",
       "4      7fe70cc8b12fab2d0a258fababf7d9c6b5e1262a  \n",
       "...                                         ...  \n",
       "95699  279a12d3ee37b8109cc192a9e88115a5a631fb06  \n",
       "95700  b5bc9d404a9a5d890c9fc26550b67e6d8d83241f  \n",
       "95701  500862586f925e406f8b662934e1a71bbee32463  \n",
       "95702  32a1f9e5c37a938c0c0bca1a1559247b9c4334b2  \n",
       "95703  8ec9ff4d633dd4cc26d53f503c33f7464b43c36e  \n",
       "\n",
       "[287113 rows x 3 columns]"
      ]
     },
     "execution_count": 3,
     "metadata": {},
     "output_type": "execute_result"
    }
   ],
   "source": [
    "# Merge the 3 dataframes into one\n",
    "train = pd.concat([train1, train2, train3])\n",
    "train"
   ]
  },
  {
   "cell_type": "code",
   "execution_count": null,
   "metadata": {},
   "outputs": [],
   "source": [
    "# Load the model\n",
    "checkpoint = \"facebook/bart-large-cnn\"\n",
    "tokenizer = AutoTokenizer.from_pretrained(checkpoint, cache_dir=\"model/\")\n",
    "model = AutoModelForSeq2SeqLM.from_pretrained(checkpoint, cache_dir=\"model/\")\n"
   ]
  },
  {
   "cell_type": "code",
   "execution_count": null,
   "metadata": {},
   "outputs": [
    {
     "name": "stdout",
     "output_type": "stream",
     "text": [
      "[{'summary_text': 'Jordan Henderson announces he is leaving Saudi Pro League club Al-Ettifaq. The 33-year-old will join Dutch Eredivisie side Ajax on a free transfer. Henderson made a controversial move to Saudi Arabia six months ago.'}]\n"
     ]
    }
   ],
   "source": [
    "from transformers import pipeline\n",
    "summarizer = pipeline(\"summarization\", model=\"facebook/bart-large-cnn\")\n",
    "#D\n",
    "ARTICLE = \"\"\" \n",
    "Soccer player Jordan Henderson has announced that he is returning to Europe to join Ajax, six months after making a controversial move to Saudi Arabia.\n",
    "\n",
    "On Thursday, the England international said that he is leaving Saudi Pro League (SPL) club Al-Ettifaq “with immediate effect,” adding: “It wasn’t an easy decision but one that I feel is best for me and my family.”\n",
    "\n",
    "Ajax, currently fifth in the Dutch Eredivisie, also confirmed the transfer on Thursday, posting photos and videos of Henderson’s arrival on the club’s social media pages.\n",
    "\n",
    "“I still want to perform at a high level on the pitch and that’s the most important thing. I’ve got to come and perform and try and help the team become successful,” the 33-year-old said in a video on X, formerly Twitter.\n",
    "\n",
    "A statement from Al-Ettifaq described the decision to terminate Henderson’s contract as “amicable,” while club president Samer Al Misehal said that the “quick decision, without any delay or further distraction, has been made for both the overall good of the club and for Jordan.”\n",
    "\n",
    "\n",
    "\"\"\"\n",
    "print(summarizer(ARTICLE, max_length=130, min_length=30, do_sample=False))"
   ]
  },
  {
   "cell_type": "code",
   "execution_count": null,
   "metadata": {},
   "outputs": [],
   "source": []
  }
 ],
 "metadata": {
  "kernelspec": {
   "display_name": "mlops",
   "language": "python",
   "name": "python3"
  },
  "language_info": {
   "codemirror_mode": {
    "name": "ipython",
    "version": 3
   },
   "file_extension": ".py",
   "mimetype": "text/x-python",
   "name": "python",
   "nbconvert_exporter": "python",
   "pygments_lexer": "ipython3",
   "version": "3.11.5"
  }
 },
 "nbformat": 4,
 "nbformat_minor": 2
}
